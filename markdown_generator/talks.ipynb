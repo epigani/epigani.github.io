{
 "cells": [
  {
   "cell_type": "markdown",
   "metadata": {
    "deletable": true,
    "editable": true
   },
   "source": [
    "# Talks markdown generator for academicpages\n",
    "\n",
    "Takes a TSV of talks with metadata and converts them for use with [academicpages.github.io](academicpages.github.io). This is an interactive Jupyter notebook ([see more info here](http://jupyter-notebook-beginner-guide.readthedocs.io/en/latest/what_is_jupyter.html)). The core python code is also in `talks.py`. Run either from the `markdown_generator` folder after replacing `talks.tsv` with one containing your data.\n",
    "\n",
    "TODO: Make this work with BibTex and other databases, rather than Stuart's non-standard TSV format and citation style."
   ]
  },
  {
   "cell_type": "code",
   "execution_count": 1,
   "metadata": {
    "collapsed": false,
    "deletable": true,
    "editable": true
   },
   "outputs": [],
   "source": [
    "import pandas as pd\n",
    "import os"
   ]
  },
  {
   "cell_type": "markdown",
   "metadata": {},
   "source": [
    "## Data format\n",
    "\n",
    "The TSV needs to have the following columns: title, type, url_slug, venue, date, location, talk_url, description, with a header at the top. Many of these fields can be blank, but the columns must be in the TSV.\n",
    "\n",
    "- Fields that cannot be blank: `title`, `url_slug`, `date`. All else can be blank. `type` defaults to \"Talk\" \n",
    "- `date` must be formatted as YYYY-MM-DD.\n",
    "- `url_slug` will be the descriptive part of the .md file and the permalink URL for the page about the paper. \n",
    "    - The .md file will be `YYYY-MM-DD-[url_slug].md` and the permalink will be `https://[yourdomain]/talks/YYYY-MM-DD-[url_slug]`\n",
    "    - The combination of `url_slug` and `date` must be unique, as it will be the basis for your filenames\n",
    "\n",
    "This is how the raw file looks (it doesn't look pretty, use a spreadsheet or other program to edit and create)."
   ]
  },
  {
   "cell_type": "code",
   "execution_count": 2,
   "metadata": {
    "collapsed": false
   },
   "outputs": [
    {
     "name": "stdout",
     "output_type": "stream",
     "text": [
      "title\ttype\turl_slug\tvenue\tdate\tlocation\ttalk_url\tdescription\n",
      "Linking microscopical stochastic gene expression dynamics with macroecological patterns in phytoplankton communities - a theoretical approach\tContributed Talk\ttalk-6\tRandom Dynamical Systems,  with applications in biology\t2024-11-06\tChicago, U.S.A.\thttps://www.nitmb.org/random-dynamical-systems\tNational Institute for Theory and Mathematics in Biology (NITMB) Workshop\n",
      "Delay effects on the stability of large ecosystems\tInvited Talk\ttalk-5\tItalian Society of Statistical Physics - Young seminars\t2024-06-13\tPadova, Italy\thttps://www.youtube.com/watch?v=O-VFbhJYoJs\tInvited Talk at the Italian Society of Statistical Physics - Young seminars\n",
      "Complexity and emergence in marine ecosystems/seascape: theory, mechanisms and data analysis\tContributed Talk\ttalk-4\tSynergy Summer School 2024\t2024-06-26\tIschia, Italy\thttps://www.atlanteco.eu/synergy-summer-school-2024\tAtlantECO, Mission Atlantic and BIOcean5D Summer School\n",
      "Deviation from neutral species abundance distributions unveils geographical differences in the structure of diatom communities\tContributed Talk\ttalk-3\tICTP\t2024-06-04\tTrieste, Italy\thttp://pols_italy.unimi.it/pols2024/\tAnnual meeting of the Physics of Living Systems Student Research Network (PoLS) 2024\n",
      "Deviation from neutral species abundance distributions unveils geographical differences in the structure of diatom communities\tContributed Talk\ttalk-3b\tREIMAGINING OCEAN ECOLOGY - Towards a Paradigmatic Framework for the Seascape\t2024-03-13\tVenice, Italy\thttps://liphlab.github.io/REIMOCEAN24/\tCo-organizer of the workshop\n",
      "Unveiling Global Patterns in Taxonomic and Gene Expression Dynamics - Species Abundance Distributions and their Biological Interpretation\tContributed Talk\ttalk-2\tICTP\t2023-10-10\tTrieste, Italy\thttps://indico.ictp.it/event/10213\tAdvanced School on Quantitative Principles in Microbial Physiology: from Single Cells to Cell Communities\n",
      "Modeling bio-geographies – a conceptual approach\tContributed Talk\ttalk-1\tAtlantECO and CEODOS\t2023-09-25\tSantiago, Chile\thttps://eventos.cmm.uchile.cl/omicsceodos/\tCEODOS and AtlantECO Workshop"
     ]
    }
   ],
   "source": [
    "!cat talks.tsv"
   ]
  },
  {
   "cell_type": "markdown",
   "metadata": {},
   "source": [
    "## Import TSV\n",
    "\n",
    "Pandas makes this easy with the read_csv function. We are using a TSV, so we specify the separator as a tab, or `\\t`.\n",
    "\n",
    "I found it important to put this data in a tab-separated values format, because there are a lot of commas in this kind of data and comma-separated values can get messed up. However, you can modify the import statement, as pandas also has read_excel(), read_json(), and others."
   ]
  },
  {
   "cell_type": "code",
   "execution_count": 3,
   "metadata": {
    "collapsed": false,
    "deletable": true,
    "editable": true
   },
   "outputs": [
    {
     "data": {
      "text/html": [
       "<div>\n",
       "<style scoped>\n",
       "    .dataframe tbody tr th:only-of-type {\n",
       "        vertical-align: middle;\n",
       "    }\n",
       "\n",
       "    .dataframe tbody tr th {\n",
       "        vertical-align: top;\n",
       "    }\n",
       "\n",
       "    .dataframe thead th {\n",
       "        text-align: right;\n",
       "    }\n",
       "</style>\n",
       "<table border=\"1\" class=\"dataframe\">\n",
       "  <thead>\n",
       "    <tr style=\"text-align: right;\">\n",
       "      <th></th>\n",
       "      <th>title</th>\n",
       "      <th>type</th>\n",
       "      <th>url_slug</th>\n",
       "      <th>venue</th>\n",
       "      <th>date</th>\n",
       "      <th>location</th>\n",
       "      <th>talk_url</th>\n",
       "      <th>description</th>\n",
       "    </tr>\n",
       "  </thead>\n",
       "  <tbody>\n",
       "    <tr>\n",
       "      <th>0</th>\n",
       "      <td>Linking microscopical stochastic gene expressi...</td>\n",
       "      <td>Contributed Talk</td>\n",
       "      <td>talk-6</td>\n",
       "      <td>Random Dynamical Systems,  with applications i...</td>\n",
       "      <td>2024-11-06</td>\n",
       "      <td>Chicago, U.S.A.</td>\n",
       "      <td>https://www.nitmb.org/random-dynamical-systems</td>\n",
       "      <td>National Institute for Theory and Mathematics ...</td>\n",
       "    </tr>\n",
       "    <tr>\n",
       "      <th>1</th>\n",
       "      <td>Delay effects on the stability of large ecosys...</td>\n",
       "      <td>Invited Talk</td>\n",
       "      <td>talk-5</td>\n",
       "      <td>Italian Society of Statistical Physics - Young...</td>\n",
       "      <td>2024-06-13</td>\n",
       "      <td>Padova, Italy</td>\n",
       "      <td>https://www.youtube.com/watch?v=O-VFbhJYoJs</td>\n",
       "      <td>Invited Talk at the Italian Society of Statist...</td>\n",
       "    </tr>\n",
       "    <tr>\n",
       "      <th>2</th>\n",
       "      <td>Complexity and emergence in marine ecosystems/...</td>\n",
       "      <td>Contributed Talk</td>\n",
       "      <td>talk-4</td>\n",
       "      <td>Synergy Summer School 2024</td>\n",
       "      <td>2024-06-26</td>\n",
       "      <td>Ischia, Italy</td>\n",
       "      <td>https://www.atlanteco.eu/synergy-summer-school...</td>\n",
       "      <td>AtlantECO, Mission Atlantic and BIOcean5D Summ...</td>\n",
       "    </tr>\n",
       "    <tr>\n",
       "      <th>3</th>\n",
       "      <td>Deviation from neutral species abundance distr...</td>\n",
       "      <td>Contributed Talk</td>\n",
       "      <td>talk-3</td>\n",
       "      <td>ICTP</td>\n",
       "      <td>2024-06-04</td>\n",
       "      <td>Trieste, Italy</td>\n",
       "      <td>http://pols_italy.unimi.it/pols2024/</td>\n",
       "      <td>Annual meeting of the Physics of Living System...</td>\n",
       "    </tr>\n",
       "    <tr>\n",
       "      <th>4</th>\n",
       "      <td>Deviation from neutral species abundance distr...</td>\n",
       "      <td>Contributed Talk</td>\n",
       "      <td>talk-3b</td>\n",
       "      <td>REIMAGINING OCEAN ECOLOGY - Towards a Paradigm...</td>\n",
       "      <td>2024-03-13</td>\n",
       "      <td>Venice, Italy</td>\n",
       "      <td>https://liphlab.github.io/REIMOCEAN24/</td>\n",
       "      <td>Co-organizer of the workshop</td>\n",
       "    </tr>\n",
       "    <tr>\n",
       "      <th>5</th>\n",
       "      <td>Unveiling Global Patterns in Taxonomic and Gen...</td>\n",
       "      <td>Contributed Talk</td>\n",
       "      <td>talk-2</td>\n",
       "      <td>ICTP</td>\n",
       "      <td>2023-10-10</td>\n",
       "      <td>Trieste, Italy</td>\n",
       "      <td>https://indico.ictp.it/event/10213</td>\n",
       "      <td>Advanced School on Quantitative Principles in ...</td>\n",
       "    </tr>\n",
       "    <tr>\n",
       "      <th>6</th>\n",
       "      <td>Modeling bio-geographies – a conceptual approach</td>\n",
       "      <td>Contributed Talk</td>\n",
       "      <td>talk-1</td>\n",
       "      <td>AtlantECO and CEODOS</td>\n",
       "      <td>2023-09-25</td>\n",
       "      <td>Santiago, Chile</td>\n",
       "      <td>https://eventos.cmm.uchile.cl/omicsceodos/</td>\n",
       "      <td>CEODOS and AtlantECO Workshop</td>\n",
       "    </tr>\n",
       "  </tbody>\n",
       "</table>\n",
       "</div>"
      ],
      "text/plain": [
       "                                               title              type  \\\n",
       "0  Linking microscopical stochastic gene expressi...  Contributed Talk   \n",
       "1  Delay effects on the stability of large ecosys...      Invited Talk   \n",
       "2  Complexity and emergence in marine ecosystems/...  Contributed Talk   \n",
       "3  Deviation from neutral species abundance distr...  Contributed Talk   \n",
       "4  Deviation from neutral species abundance distr...  Contributed Talk   \n",
       "5  Unveiling Global Patterns in Taxonomic and Gen...  Contributed Talk   \n",
       "6   Modeling bio-geographies – a conceptual approach  Contributed Talk   \n",
       "\n",
       "  url_slug                                              venue        date  \\\n",
       "0   talk-6  Random Dynamical Systems,  with applications i...  2024-11-06   \n",
       "1   talk-5  Italian Society of Statistical Physics - Young...  2024-06-13   \n",
       "2   talk-4                         Synergy Summer School 2024  2024-06-26   \n",
       "3   talk-3                                               ICTP  2024-06-04   \n",
       "4  talk-3b  REIMAGINING OCEAN ECOLOGY - Towards a Paradigm...  2024-03-13   \n",
       "5   talk-2                                               ICTP  2023-10-10   \n",
       "6   talk-1                               AtlantECO and CEODOS  2023-09-25   \n",
       "\n",
       "          location                                           talk_url  \\\n",
       "0  Chicago, U.S.A.     https://www.nitmb.org/random-dynamical-systems   \n",
       "1    Padova, Italy        https://www.youtube.com/watch?v=O-VFbhJYoJs   \n",
       "2    Ischia, Italy  https://www.atlanteco.eu/synergy-summer-school...   \n",
       "3   Trieste, Italy               http://pols_italy.unimi.it/pols2024/   \n",
       "4    Venice, Italy             https://liphlab.github.io/REIMOCEAN24/   \n",
       "5   Trieste, Italy                 https://indico.ictp.it/event/10213   \n",
       "6  Santiago, Chile         https://eventos.cmm.uchile.cl/omicsceodos/   \n",
       "\n",
       "                                         description  \n",
       "0  National Institute for Theory and Mathematics ...  \n",
       "1  Invited Talk at the Italian Society of Statist...  \n",
       "2  AtlantECO, Mission Atlantic and BIOcean5D Summ...  \n",
       "3  Annual meeting of the Physics of Living System...  \n",
       "4                       Co-organizer of the workshop  \n",
       "5  Advanced School on Quantitative Principles in ...  \n",
       "6                      CEODOS and AtlantECO Workshop  "
      ]
     },
     "execution_count": 3,
     "metadata": {},
     "output_type": "execute_result"
    }
   ],
   "source": [
    "talks = pd.read_csv(\"talks.tsv\", sep=\"\\t\", header=0)\n",
    "talks"
   ]
  },
  {
   "cell_type": "markdown",
   "metadata": {},
   "source": [
    "## Escape special characters\n",
    "\n",
    "YAML is very picky about how it takes a valid string, so we are replacing single and double quotes (and ampersands) with their HTML encoded equivilents. This makes them look not so readable in raw format, but they are parsed and rendered nicely."
   ]
  },
  {
   "cell_type": "code",
   "execution_count": 4,
   "metadata": {
    "collapsed": false,
    "deletable": true,
    "editable": true
   },
   "outputs": [],
   "source": [
    "html_escape_table = {\n",
    "    \"&\": \"&amp;\",\n",
    "    '\"': \"&quot;\",\n",
    "    \"'\": \"&apos;\"\n",
    "    }\n",
    "\n",
    "def html_escape(text):\n",
    "    if type(text) is str:\n",
    "        return \"\".join(html_escape_table.get(c,c) for c in text)\n",
    "    else:\n",
    "        return \"False\""
   ]
  },
  {
   "cell_type": "markdown",
   "metadata": {},
   "source": [
    "## Creating the markdown files\n",
    "\n",
    "This is where the heavy lifting is done. This loops through all the rows in the TSV dataframe, then starts to concatentate a big string (```md```) that contains the markdown for each type. It does the YAML metadata first, then does the description for the individual page."
   ]
  },
  {
   "cell_type": "code",
   "execution_count": 6,
   "metadata": {
    "collapsed": false,
    "deletable": true,
    "editable": true
   },
   "outputs": [],
   "source": [
    "loc_dict = {}\n",
    "\n",
    "for row, item in talks.iterrows():\n",
    "    \n",
    "    md_filename = str(item.date) + \"-\" + item.url_slug + \".md\"\n",
    "    html_filename = str(item.date) + \"-\" + item.url_slug \n",
    "    year = item.date[:4]\n",
    "    \n",
    "    md = \"---\\ntitle: \\\"\"   + item.title + '\"\\n'\n",
    "    md += \"collection: talks\" + \"\\n\"\n",
    "    \n",
    "    if len(str(item.type)) > 3:\n",
    "        md += 'type: \"' + item.type + '\"\\n'\n",
    "    else:\n",
    "        md += 'type: \"Talk\"\\n'\n",
    "    \n",
    "    md += \"permalink: /talks/\" + html_filename + \"\\n\"\n",
    "    \n",
    "    if len(str(item.venue)) > 3:\n",
    "        md += 'venue: \"' + item.venue + '\"\\n'\n",
    "        \n",
    "    if len(str(item.location)) > 3:\n",
    "        md += \"date: \" + str(item.date) + \"\\n\"\n",
    "    \n",
    "    if len(str(item.location)) > 3:\n",
    "        md += 'location: \"' + str(item.location) + '\"\\n'\n",
    "           \n",
    "    md += \"---\\n\"\n",
    "    \n",
    "    \n",
    "    if len(str(item.talk_url)) > 3:\n",
    "        md += \"\\n[More information here](\" + item.talk_url + \")\\n\" \n",
    "        \n",
    "    \n",
    "    if len(str(item.description)) > 3:\n",
    "        md += \"\\n\" + html_escape(item.description) + \"\\n\"\n",
    "        \n",
    "        \n",
    "    md_filename = os.path.basename(md_filename)\n",
    "    #print(md)\n",
    "    \n",
    "    with open(\"../_talks/\" + md_filename, 'w') as f:\n",
    "        f.write(md)"
   ]
  },
  {
   "cell_type": "markdown",
   "metadata": {},
   "source": [
    "These files are in the talks directory, one directory below where we're working from."
   ]
  },
  {
   "cell_type": "code",
   "execution_count": 7,
   "metadata": {
    "collapsed": false,
    "deletable": true,
    "editable": true
   },
   "outputs": [
    {
     "name": "stdout",
     "output_type": "stream",
     "text": [
      "2023-09-25-talk-1.md  2024-06-04-talk-3.md  2024-11-06-talk-6.md\n",
      "2023-10-10-talk-2.md  2024-06-13-talk-5.md\n",
      "2024-03-13-talk-3b.md 2024-06-26-talk-4.md\n"
     ]
    }
   ],
   "source": [
    "!ls ../_talks"
   ]
  },
  {
   "cell_type": "code",
   "execution_count": 8,
   "metadata": {
    "collapsed": false,
    "deletable": true,
    "editable": true
   },
   "outputs": [
    {
     "name": "stdout",
     "output_type": "stream",
     "text": [
      "cat: ../_talks/2013-03-01-tutorial-1.md: No such file or directory\n"
     ]
    }
   ],
   "source": [
    "!cat ../_talks/2013-03-01-tutorial-1.md"
   ]
  },
  {
   "cell_type": "code",
   "execution_count": null,
   "metadata": {},
   "outputs": [],
   "source": []
  }
 ],
 "metadata": {
  "kernelspec": {
   "display_name": "genesENV",
   "language": "python",
   "name": "python3"
  },
  "language_info": {
   "codemirror_mode": {
    "name": "ipython",
    "version": 3
   },
   "file_extension": ".py",
   "mimetype": "text/x-python",
   "name": "python",
   "nbconvert_exporter": "python",
   "pygments_lexer": "ipython3",
   "version": "3.13.3"
  }
 },
 "nbformat": 4,
 "nbformat_minor": 0
}
