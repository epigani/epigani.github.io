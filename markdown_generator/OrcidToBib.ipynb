{
 "cells": [
  {
   "cell_type": "code",
   "execution_count": 1,
   "id": "01f0c5c2-619a-48e0-bb7c-e5e0be009f0e",
   "metadata": {},
   "outputs": [],
   "source": [
    "orcid = '0000-0002-0566-0759' # Fill your orcid here"
   ]
  },
  {
   "cell_type": "code",
   "execution_count": 2,
   "id": "2fe4bc4e-4574-4322-8b18-0c4d33a749fa",
   "metadata": {},
   "outputs": [],
   "source": [
    "import requests"
   ]
  },
  {
   "cell_type": "markdown",
   "id": "44a8b6cd-4034-4fc4-85a8-e3431dc564f1",
   "metadata": {},
   "source": [
    "We use the `/works` api to list all works related to the orcid. This gives a summary of all works, so citation information is not included. We collect the `put-code` of all works to retrieve the citation information later."
   ]
  },
  {
   "cell_type": "code",
   "execution_count": 7,
   "id": "3b04331e-4149-4ca3-a0aa-89e3ba892723",
   "metadata": {},
   "outputs": [],
   "source": [
    "response = requests.get('https://pub.orcid.org/v3.0/{}/works'.format(orcid),\n",
    "                        headers={\"Accept\": \"application/orcid+json\" })\n",
    "record = response.json()"
   ]
  },
  {
   "cell_type": "code",
   "execution_count": 38,
   "id": "16f7c42d-623b-421a-8d87-bbb389313e3b",
   "metadata": {
    "scrolled": true
   },
   "outputs": [],
   "source": [
    "put_codes = []\n",
    "for work in record['group']:\n",
    "    put_code = work['work-summary'][0]['put-code']\n",
    "    put_codes.append(put_code)\n",
    "put_code = put_codes[0]"
   ]
  },
  {
   "cell_type": "code",
   "execution_count": 34,
   "id": "e56c2761",
   "metadata": {},
   "outputs": [],
   "source": [
    "put_codes = []\n",
    "for work in record['group']:\n",
    "    for summary in work['work-summary']:\n",
    "        put_codes.append(summary['put-code'])\n"
   ]
  },
  {
   "cell_type": "markdown",
   "id": "25e5d2aa-5233-486e-abce-a0d07a36c5ce",
   "metadata": {},
   "source": [
    "We use the `/<orcid>/work/<put-code>` endpoint to retrieve the citation information for each record."
   ]
  },
  {
   "cell_type": "code",
   "execution_count": 39,
   "id": "dd797a16-0d91-4271-8e1e-b82579a07e45",
   "metadata": {},
   "outputs": [],
   "source": [
    "citations = []\n",
    "for put_code in put_codes:\n",
    "    response = requests.get('https://pub.orcid.org/v3.0/{}/work/{}'.format(orcid, put_code),\n",
    "                            headers={\"Accept\": \"application/orcid+json\" })\n",
    "    work = response.json()\n",
    "    try:\n",
    "        if work['citation'] is not None:\n",
    "            citations.append(work['citation']['citation-value'])\n",
    "    except KeyError:\n",
    "        pass"
   ]
  },
  {
   "cell_type": "code",
   "execution_count": 40,
   "id": "cfc485ba",
   "metadata": {},
   "outputs": [
    {
     "data": {
      "text/plain": [
       "['@article{\\nPigani2022delay,\\nauthor = {Emanuele Pigani  and Damiano Sgarbossa  and Samir Suweis  and Amos Maritan  and Sandro Azaele },\\ntitle = {Delay effects on the stability of large ecosystems},\\njournal = {Proceedings of the National Academy of Sciences},\\nvolume = {119},\\nnumber = {45},\\npages = {e2211449119},\\nyear = {2022},\\ndoi = {10.1073/pnas.2211449119},\\nURL = {https://www.pnas.org/doi/abs/10.1073/pnas.2211449119},\\neprint = {https://www.pnas.org/doi/pdf/10.1073/pnas.2211449119},\\nabstract = {Understanding how communities emerge from a large number of interacting entities is a long-standing question in several fields. In ecosystems with randomly coupled species, a delayed dynamics seemed to play a minor role in characterizing the stability close to equilibrium. Here, we study the effects on large ecosystems of species’ interactions that are random as well as delayed. We find that near equilibrium, delayed self-interactions greatly modify the eigenspectrum distribution as predicted by Wigner’s as well as Girko’s laws. We analytically calculate the ensued generalized laws and identify the geometric profile of the eigenvalues in the complex plane. The common intuition among the ecologists of the midtwentieth century was that large ecosystems should be more stable than those with a smaller number of species. This view was challenged by Robert May, who found a stability bound for randomly assembled ecosystems; they become unstable for a sufficiently large number of species. In the present work, we show that May’s bound greatly changes when the past population densities of a species affect its own current density. This is a common feature in real systems, where the effects of species’ interactions may appear after a time lag rather than instantaneously. The local stability of these models with self-interaction is described by bounds, which we characterize in the parameter space. We find a critical delay curve that separates the region of stability from that of instability, and correspondingly, we identify a critical frequency curve that provides the characteristic frequencies of a system at the instability threshold. Finally, we calculate analytically the distributions of eigenvalues that generalize Wigner’s as well as Girko’s laws. Interestingly, we find that, for sufficiently large delays, the eigenvalues of a randomly coupled system are complex even when the interactions are symmetric.}\\n}',\n",
       " \"@article{Calleja_Solanas_2021,\\n\\tdoi = {10.1088/2632-072x/ac35b6},\\n\\turl = {https://doi.org/10.1088%2F2632-072x%2Fac35b6},\\n\\tyear = 2021,\\n\\tmonth = {nov},\\n\\tpublisher = {{IOP} Publishing},\\n\\tauthor = {Violeta Calleja-Solanas and Emanuele Pigani and Mar{\\\\i}{\\\\'}a J. Palazzi and Albert Sol{\\\\'{e}}-Ribalta and Samir Suweis and Javier Borge-Holthoefer and Sandro Meloni},\\n\\ttitle = {Quantifying the drivers behind collective attention in information ecosystems},\\n\\tjournal = {Journal of Physics: Complexity}\\n}\",\n",
       " \"@article{Plata_2021,\\n\\tdoi = {10.1103/physrevresearch.3.013070},\\n\\turl = {https://doi.org/10.1103%2Fphysrevresearch.3.013070},\\n\\tyear = 2021,\\n\\tmonth = {jan},\\n\\tpublisher = {American Physical Society ({APS})},\\n\\tvolume = {3},\\n\\tnumber = {1},\\n\\tauthor = {Carlos A. Plata and Emanuele Pigani and Sandro Azaele and Violeta Calleja-Solanas and Mar{\\\\'{\\\\i}}a J. Palazzi and Albert Sol{\\\\'{e}}-Ribalta and Javier Borge-Holthoefer and Sandro Meloni and Samir Suweis},\\n\\ttitle = {Neutral theory for competing attention in social networks},\\n\\tjournal = {Physical Review Research}\\n}\"]"
      ]
     },
     "execution_count": 40,
     "metadata": {},
     "output_type": "execute_result"
    }
   ],
   "source": [
    "citations"
   ]
  },
  {
   "cell_type": "code",
   "execution_count": 27,
   "id": "b3b407b6",
   "metadata": {},
   "outputs": [
    {
     "data": {
      "text/plain": [
       "['@article{\\ndoi:10.1073/pnas.2211449119,\\nauthor = {Emanuele Pigani  and Damiano Sgarbossa  and Samir Suweis  and Amos Maritan  and Sandro Azaele },\\ntitle = {Delay effects on the stability of large ecosystems},\\njournal = {Proceedings of the National Academy of Sciences},\\nvolume = {119},\\nnumber = {45},\\npages = {e2211449119},\\nyear = {2022},\\ndoi = {10.1073/pnas.2211449119},\\nURL = {https://www.pnas.org/doi/abs/10.1073/pnas.2211449119},\\neprint = {https://www.pnas.org/doi/pdf/10.1073/pnas.2211449119},\\nabstract = {Understanding how communities emerge from a large number of interacting entities is a long-standing question in several fields. In ecosystems with randomly coupled species, a delayed dynamics seemed to play a minor role in characterizing the stability close to equilibrium. Here, we study the effects on large ecosystems of species’ interactions that are random as well as delayed. We find that near equilibrium, delayed self-interactions greatly modify the eigenspectrum distribution as predicted by Wigner’s as well as Girko’s laws. We analytically calculate the ensued generalized laws and identify the geometric profile of the eigenvalues in the complex plane. The common intuition among the ecologists of the midtwentieth century was that large ecosystems should be more stable than those with a smaller number of species. This view was challenged by Robert May, who found a stability bound for randomly assembled ecosystems; they become unstable for a sufficiently large number of species. In the present work, we show that May’s bound greatly changes when the past population densities of a species affect its own current density. This is a common feature in real systems, where the effects of species’ interactions may appear after a time lag rather than instantaneously. The local stability of these models with self-interaction is described by bounds, which we characterize in the parameter space. We find a critical delay curve that separates the region of stability from that of instability, and correspondingly, we identify a critical frequency curve that provides the characteristic frequencies of a system at the instability threshold. Finally, we calculate analytically the distributions of eigenvalues that generalize Wigner’s as well as Girko’s laws. Interestingly, we find that, for sufficiently large delays, the eigenvalues of a randomly coupled system are complex even when the interactions are symmetric.}}',\n",
       " \"@article{Calleja_Solanas_2021,\\n\\tdoi = {10.1088/2632-072x/ac35b6},\\n\\turl = {https://doi.org/10.1088%2F2632-072x%2Fac35b6},\\n\\tyear = 2021,\\n\\tmonth = {nov},\\n\\tpublisher = {{IOP} Publishing},\\n\\tauthor = {Violeta Calleja-Solanas and Emanuele Pigani and Mar{\\\\i}{\\\\'}a J. Palazzi and Albert Sol{\\\\'{e}}-Ribalta and Samir Suweis and Javier Borge-Holthoefer and Sandro Meloni},\\n\\ttitle = {Quantifying the drivers behind collective attention in information ecosystems},\\n\\tjournal = {Journal of Physics: Complexity}\\n}\",\n",
       " \"@article{Plata_2021,\\n\\tdoi = {10.1103/physrevresearch.3.013070},\\n\\turl = {https://doi.org/10.1103%2Fphysrevresearch.3.013070},\\n\\tyear = 2021,\\n\\tmonth = {jan},\\n\\tpublisher = {American Physical Society ({APS})},\\n\\tvolume = {3},\\n\\tnumber = {1},\\n\\tauthor = {Carlos A. Plata and Emanuele Pigani and Sandro Azaele and Violeta Calleja-Solanas and Mar{\\\\'{\\\\i}}a J. Palazzi and Albert Sol{\\\\'{e}}-Ribalta and Javier Borge-Holthoefer and Sandro Meloni and Samir Suweis},\\n\\ttitle = {Neutral theory for competing attention in social networks},\\n\\tjournal = {Physical Review Research}\\n}\",\n",
       " '@article{Cencetti_2020,\\n\\tdoi = {10.1101/2020.05.29.20115915},\\n\\turl = {https://doi.org/10.1101%2F2020.05.29.20115915},\\n\\tyear = 2020,\\n\\tmonth = {may},\\n\\tpublisher = {Cold Spring Harbor Laboratory},\\n\\tauthor = {Giulia Cencetti and Gabriele Santin and Antonio Longa and Emanuele Pigani and Alain Barrat and Ciro Cattuto and Sune Lehmann and Marcel Salathe and Bruno Lepri},\\n\\ttitle = {Digital proximity tracing on empirical contact networks for pandemic control}\\n}']"
      ]
     },
     "execution_count": 27,
     "metadata": {},
     "output_type": "execute_result"
    }
   ],
   "source": [
    "citations"
   ]
  },
  {
   "cell_type": "code",
   "execution_count": 28,
   "id": "ad763df9-261f-41f3-bc32-00921d0a4e11",
   "metadata": {},
   "outputs": [],
   "source": [
    "with open('output.bib', 'w') as bibfile:\n",
    "    for citation in citations:\n",
    "        bibfile.write(citation)\n",
    "        bibfile.write('\\n')"
   ]
  },
  {
   "cell_type": "code",
   "execution_count": null,
   "id": "ab15acbe",
   "metadata": {},
   "outputs": [],
   "source": []
  },
  {
   "cell_type": "code",
   "execution_count": null,
   "id": "493607a0",
   "metadata": {},
   "outputs": [],
   "source": []
  },
  {
   "cell_type": "code",
   "execution_count": 42,
   "id": "db11515a",
   "metadata": {},
   "outputs": [
    {
     "name": "stdout",
     "output_type": "stream",
     "text": [
      "Found 8 works\n",
      "Written output.bib with 8 entries\n"
     ]
    }
   ],
   "source": [
    "import requests\n",
    "from time import sleep\n",
    "import re\n",
    "\n",
    "ORCID = \"0000-0002-0566-0759\"\n",
    "BASE = \"https://pub.orcid.org/v3.0\"\n",
    "HDRS = {\"Accept\": \"application/orcid+json\"}\n",
    "\n",
    "def safed(d, *keys, default=None):\n",
    "    \"\"\"Nested dict getter: safed(x,'a','b','c',default=None)\"\"\"\n",
    "    for k in keys:\n",
    "        if isinstance(d, dict) and k in d:\n",
    "            d = d[k]\n",
    "        else:\n",
    "            return default\n",
    "    return d\n",
    "\n",
    "def slugify(s, n=5):\n",
    "    tokens = re.findall(r\"[A-Za-z0-9]+\", s or \"\")\n",
    "    return \"\".join(tokens[:n])\n",
    "\n",
    "# 1) Prendi tutti i put-code (tutte le work-summary, non solo [0])\n",
    "resp = requests.get(f\"{BASE}/{ORCID}/works\", headers=HDRS)\n",
    "resp.raise_for_status()\n",
    "record = resp.json()\n",
    "\n",
    "put_codes = []\n",
    "titles_index = {}  # per debug/chiavi\n",
    "for grp in record.get(\"group\", []):\n",
    "    for summary in grp.get(\"work-summary\", []):\n",
    "        pc = summary.get(\"put-code\")\n",
    "        if pc is not None:\n",
    "            put_codes.append(pc)\n",
    "            titles_index[pc] = safed(summary, \"title\", \"title\", \"value\", default=\"\")\n",
    "\n",
    "# de-duplica mantenendo l’ordine\n",
    "seen = set()\n",
    "put_codes = [pc for pc in put_codes if not (pc in seen or seen.add(pc))]\n",
    "\n",
    "print(f\"Found {len(put_codes)} works\")\n",
    "\n",
    "# 2) Scarica ogni work completa e ricava una citazione (o fallback BibTeX)\n",
    "citations = []\n",
    "for pc in put_codes:\n",
    "    r = requests.get(f\"{BASE}/{ORCID}/work/{pc}\", headers=HDRS)\n",
    "    if r.status_code != 200:\n",
    "        continue\n",
    "    work = r.json()\n",
    "\n",
    "    # Se ORCID ha già la citazione formattata, usala\n",
    "    cit = safed(work, \"citation\", \"citation-value\")\n",
    "    if cit:\n",
    "        citations.append(cit.strip())\n",
    "        sleep(0.2)\n",
    "        continue\n",
    "\n",
    "    # --- Fallback BibTeX minimale ---\n",
    "    title = safed(work, \"title\", \"title\", \"value\", default=titles_index.get(pc, \"\"))\n",
    "    journal = safed(work, \"journal-title\", \"value\", default=\"\")\n",
    "    year = safed(work, \"publication-date\", \"year\", \"value\", default=\"\")\n",
    "    # autori\n",
    "    contribs = safed(work, \"contributors\", \"contributor\", default=[]) or []\n",
    "    authors = []\n",
    "    for c in contribs:\n",
    "        name = safed(c, \"credit-name\", \"value\")\n",
    "        if not name:\n",
    "            # prova dato strutturato\n",
    "            given = safed(c, \"contributor-name\", \"given-names\", \"value\", default=\"\")\n",
    "            family = safed(c, \"contributor-name\", \"family-name\", \"value\", default=\"\")\n",
    "            name = (given + \" \" + family).strip()\n",
    "        if name:\n",
    "            authors.append(name)\n",
    "    authors_str = \" and \".join(authors) if authors else \"\"\n",
    "\n",
    "    # DOI se presente\n",
    "    doi = \"\"\n",
    "    for ext in safed(work, \"external-ids\", \"external-id\", default=[]) or []:\n",
    "        if safed(ext, \"external-id-type\", default=\"\").lower() == \"doi\":\n",
    "            doi = safed(ext, \"external-id-value\", default=\"\")\n",
    "            break\n",
    "\n",
    "    # chiave BibTeX\n",
    "    first_author_key = slugify(authors[0].split()[-1] if authors else \"noauthor\", 1)\n",
    "    key = f\"{first_author_key}{year}{slugify(title,1)}\"\n",
    "\n",
    "    # tipo (article default)\n",
    "    entry_type = \"article\"\n",
    "    wtype = safed(work, \"type\", default=\"\").lower()\n",
    "    if \"book\" in wtype: entry_type = \"book\"\n",
    "    elif \"conference\" in wtype or \"proceeding\" in wtype: entry_type = \"inproceedings\"\n",
    "\n",
    "    # costruisci BibTeX semplice\n",
    "    lines = [f\"@{entry_type}{{{key},\"]\n",
    "    if title:   lines.append(f\"  title = {{{title}}},\")\n",
    "    if authors_str: lines.append(f\"  author = {{{authors_str}}},\")\n",
    "    if journal and entry_type == \"article\": lines.append(f\"  journal = {{{journal}}},\")\n",
    "    if year:    lines.append(f\"  year = {{{year}}},\")\n",
    "    if doi:     lines.append(f\"  doi = {{{doi}}},\")\n",
    "    lines[-1] = lines[-1].rstrip(\",\")  # niente virgola finale\n",
    "    lines.append(\"}\")\n",
    "    citations.append(\"\\n\".join(lines))\n",
    "    sleep(0.2)\n",
    "\n",
    "# 3) Salva tutto in .bib\n",
    "with open(\"output.bib\", \"w\", encoding=\"utf-8\") as f:\n",
    "    for c in citations:\n",
    "        f.write(c.strip() + \"\\n\\n\")\n",
    "\n",
    "print(\"Written output.bib with\", len(citations), \"entries\")\n"
   ]
  },
  {
   "cell_type": "code",
   "execution_count": 22,
   "id": "1f53503f",
   "metadata": {},
   "outputs": [
    {
     "name": "stdout",
     "output_type": "stream",
     "text": [
      "[ORCID /works] lavori pubblici trovati: 9\n",
      "01. [public] None  (put:181179951, type:preprint, src:None)\n",
      "02. [public] None  (put:154988809, type:journal-article, src:None)\n",
      "03. [public] None  (put:121985851, type:journal-article, src:None)\n",
      "04. [public] None  (put:113427012, type:journal-article, src:None)\n",
      "05. [public] None  (put:102502489, type:journal-article, src:None)\n",
      "06. [public] None  (put:90495761, type:journal-article, src:None)\n",
      "07. [public] None  (put:87322802, type:journal-article, src:None)\n",
      "08. [public] None  (put:77654936, type:preprint, src:None)\n",
      "09. [public] None  (put:77225035, type:other, src:None)\n",
      "\n",
      "---- RIEPILOGO ----\n",
      "OK con citazione: 5\n",
      "Senza citazione (verrà creato BibTeX di fallback): 4\n",
      "Non scaricabili: 0\n",
      "\n",
      "Titoli non trovati in output.bib: 0\n"
     ]
    }
   ],
   "source": [
    "import requests, json, re, pathlib, time\n",
    "ORCID = \"0000-0002-0566-0759\"\n",
    "BASE = \"https://pub.orcid.org/v3.0\"\n",
    "HDRS = {\"Accept\": \"application/orcid+json\"}\n",
    "\n",
    "def g(d,*ks,default=None):\n",
    "    for k in ks:\n",
    "        if isinstance(d,dict) and k in d: d=d[k]\n",
    "        else: return default\n",
    "    return d\n",
    "\n",
    "# 1) Elenco \"tutti i works pubblici\" visti dall’endpoint /works\n",
    "r = requests.get(f\"{BASE}/{ORCID}/works\", headers=HDRS); r.raise_for_status()\n",
    "record = r.json()\n",
    "\n",
    "summaries = []\n",
    "for grp in record.get(\"group\", []):\n",
    "    for s in grp.get(\"work-summary\", []):\n",
    "        summaries.append({\n",
    "            \"put_code\": s.get(\"put-code\"),\n",
    "            \"title\": g(s,\"title\",\"title\",\"value\",\"\"),\n",
    "            \"visibility\": s.get(\"visibility\"),\n",
    "            \"type\": s.get(\"type\"),\n",
    "            \"source\": g(s,\"source\",\"source-name\",\"value\",\"\"),\n",
    "        })\n",
    "\n",
    "print(f\"[ORCID /works] lavori pubblici trovati: {len(summaries)}\")\n",
    "for i,x in enumerate(summaries,1):\n",
    "    print(f\"{i:02d}. [{x['visibility']}] {x['title']}  (put:{x['put_code']}, type:{x['type']}, src:{x['source']})\")\n",
    "\n",
    "# 2) Provo a scaricare ogni /work/<put_code> e verifico chi fallisce o non ha citazione\n",
    "missing = []\n",
    "no_citation = []\n",
    "ok = []\n",
    "\n",
    "for x in summaries:\n",
    "    pc = x[\"put_code\"]\n",
    "    if pc is None: \n",
    "        missing.append((x,\"no put-code in summary\"))\n",
    "        continue\n",
    "    rr = requests.get(f\"{BASE}/{ORCID}/work/{pc}\", headers=HDRS)\n",
    "    if rr.status_code != 200:\n",
    "        missing.append((x,f\"HTTP {rr.status_code}\"))\n",
    "        continue\n",
    "    w = rr.json()\n",
    "    cit = g(w, \"citation\", \"citation-value\")\n",
    "    if not cit:\n",
    "        no_citation.append(x)\n",
    "    else:\n",
    "        ok.append(x)\n",
    "    time.sleep(0.2)  # evito rate limit\n",
    "\n",
    "print(\"\\n---- RIEPILOGO ----\")\n",
    "print(\"OK con citazione:\", len(ok))\n",
    "print(\"Senza citazione (verrà creato BibTeX di fallback):\", len(no_citation))\n",
    "print(\"Non scaricabili:\", len(missing))\n",
    "for x,why in missing:\n",
    "    print(f\" - {x['title']}  (put:{x['put_code']}) -> {why}\")\n",
    "\n",
    "# 3) Se vuoi vedere subito quali TITOLI NON sono finiti nell'output.bib prodotto prima:\n",
    "bib = pathlib.Path(\"output.bib\").read_text(encoding=\"utf-8\") if pathlib.Path(\"output.bib\").exists() else \"\"\n",
    "present = []\n",
    "for x in summaries:\n",
    "    t = re.escape((x[\"title\"] or \"\")[:40])\n",
    "    if re.search(t, bib, flags=re.I):\n",
    "        present.append(x[\"title\"])\n",
    "absent = [x[\"title\"] for x in summaries if x[\"title\"] not in present]\n",
    "print(\"\\nTitoli non trovati in output.bib:\", len(absent))\n",
    "for t in absent:\n",
    "    print(\" -\", t)\n"
   ]
  },
  {
   "cell_type": "code",
   "execution_count": null,
   "id": "66effa71",
   "metadata": {},
   "outputs": [],
   "source": []
  }
 ],
 "metadata": {
  "kernelspec": {
   "display_name": "genesENV",
   "language": "python",
   "name": "python3"
  },
  "language_info": {
   "codemirror_mode": {
    "name": "ipython",
    "version": 3
   },
   "file_extension": ".py",
   "mimetype": "text/x-python",
   "name": "python",
   "nbconvert_exporter": "python",
   "pygments_lexer": "ipython3",
   "version": "3.13.3"
  }
 },
 "nbformat": 4,
 "nbformat_minor": 5
}
