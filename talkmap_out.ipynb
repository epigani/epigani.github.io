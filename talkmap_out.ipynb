{
 "cells": [
  {
   "cell_type": "markdown",
   "metadata": {},
   "source": [
    "# Leaflet cluster map of talk locations\n",
    "\n",
    "Assuming you are working in a Linux or Windows Subsystem for Linux environment, you may need to install some dependencies. Assuming a clean installation, the following will be needed:\n",
    "\n",
    "```bash\n",
    "sudo apt install jupyter\n",
    "sudo apt install python3-pip\n",
    "pip install python-frontmatter getorg --upgrade\n",
    "```\n",
    "\n",
    "After which you can run this from the `_talks/` directory, via:\n",
    "\n",
    "```bash\n",
    " jupyter nbconvert --to notebook --execute talkmap.ipynb --output talkmap_out.ipynb\n",
    "```\n",
    " \n",
    "The `_talks/` directory contains `.md` files of all your talks. This scrapes the location YAML field from each `.md` file, geolocates it with `geopy/Nominatim`, and uses the `getorg` library to output data, HTML, and Javascript for a standalone cluster map."
   ]
  },
  {
   "cell_type": "code",
   "execution_count": 6,
   "metadata": {
    "collapsed": false,
    "execution": {
     "iopub.execute_input": "2025-02-26T03:36:06.769536Z",
     "iopub.status.busy": "2025-02-26T03:36:06.769131Z",
     "iopub.status.idle": "2025-02-26T03:36:07.934020Z",
     "shell.execute_reply": "2025-02-26T03:36:07.933257Z"
    }
   },
   "outputs": [
    {
     "name": "stdout",
     "output_type": "stream",
     "text": [
      "Requirement already satisfied: python-frontmatter in /opt/anaconda3/envs/genesENV/lib/python3.13/site-packages (1.1.0)\n",
      "Requirement already satisfied: getorg in /opt/anaconda3/envs/genesENV/lib/python3.13/site-packages (0.3.1)\n",
      "Requirement already satisfied: PyYAML in /opt/anaconda3/envs/genesENV/lib/python3.13/site-packages (from python-frontmatter) (6.0.2)\n",
      "Requirement already satisfied: geopy in /opt/anaconda3/envs/genesENV/lib/python3.13/site-packages (from getorg) (2.4.1)\n",
      "Requirement already satisfied: pygithub in /opt/anaconda3/envs/genesENV/lib/python3.13/site-packages (from getorg) (2.7.0)\n",
      "Requirement already satisfied: retrying in /opt/anaconda3/envs/genesENV/lib/python3.13/site-packages (from getorg) (1.4.2)\n",
      "Requirement already satisfied: geographiclib<3,>=1.52 in /opt/anaconda3/envs/genesENV/lib/python3.13/site-packages (from geopy->getorg) (2.1)\n",
      "Requirement already satisfied: pynacl>=1.4.0 in /opt/anaconda3/envs/genesENV/lib/python3.13/site-packages (from pygithub->getorg) (1.5.0)\n",
      "Requirement already satisfied: requests>=2.14.0 in /opt/anaconda3/envs/genesENV/lib/python3.13/site-packages (from pygithub->getorg) (2.32.4)\n",
      "Requirement already satisfied: pyjwt>=2.4.0 in /opt/anaconda3/envs/genesENV/lib/python3.13/site-packages (from pyjwt[crypto]>=2.4.0->pygithub->getorg) (2.10.1)\n",
      "Requirement already satisfied: typing-extensions>=4.5.0 in /opt/anaconda3/envs/genesENV/lib/python3.13/site-packages (from pygithub->getorg) (4.13.2)\n",
      "Requirement already satisfied: urllib3>=1.26.0 in /opt/anaconda3/envs/genesENV/lib/python3.13/site-packages (from pygithub->getorg) (2.5.0)\n",
      "Requirement already satisfied: cryptography>=3.4.0 in /opt/anaconda3/envs/genesENV/lib/python3.13/site-packages (from pyjwt[crypto]>=2.4.0->pygithub->getorg) (45.0.6)\n",
      "Requirement already satisfied: cffi>=1.14 in /opt/anaconda3/envs/genesENV/lib/python3.13/site-packages (from cryptography>=3.4.0->pyjwt[crypto]>=2.4.0->pygithub->getorg) (1.17.1)\n",
      "Requirement already satisfied: pycparser in /opt/anaconda3/envs/genesENV/lib/python3.13/site-packages (from cffi>=1.14->cryptography>=3.4.0->pyjwt[crypto]>=2.4.0->pygithub->getorg) (2.22)\n",
      "Requirement already satisfied: charset_normalizer<4,>=2 in /opt/anaconda3/envs/genesENV/lib/python3.13/site-packages (from requests>=2.14.0->pygithub->getorg) (3.4.2)\n",
      "Requirement already satisfied: idna<4,>=2.5 in /opt/anaconda3/envs/genesENV/lib/python3.13/site-packages (from requests>=2.14.0->pygithub->getorg) (3.10)\n",
      "Requirement already satisfied: certifi>=2017.4.17 in /opt/anaconda3/envs/genesENV/lib/python3.13/site-packages (from requests>=2.14.0->pygithub->getorg) (2025.6.15)\n"
     ]
    }
   ],
   "source": [
    "# Start by installing the dependencies\n",
    "# ! pip install ipyleaflet\n",
    "!pip install python-frontmatter getorg --upgrade\n",
    "\n",
    "import frontmatter\n",
    "import glob\n",
    "import getorg, re, pathlib\n",
    "from geopy import Nominatim\n",
    "from geopy.exc import GeocoderTimedOut\n",
    "from ipyleaflet import Map, TileLayer"
   ]
  },
  {
   "cell_type": "code",
   "execution_count": 2,
   "metadata": {
    "collapsed": false,
    "execution": {
     "iopub.execute_input": "2025-02-26T03:36:07.936149Z",
     "iopub.status.busy": "2025-02-26T03:36:07.935901Z",
     "iopub.status.idle": "2025-02-26T03:36:07.939314Z",
     "shell.execute_reply": "2025-02-26T03:36:07.938765Z"
    }
   },
   "outputs": [],
   "source": [
    "# Collect the Markdown files\n",
    "g = glob.glob(\"_talks/*.md\")"
   ]
  },
  {
   "cell_type": "code",
   "execution_count": 3,
   "metadata": {
    "collapsed": true,
    "execution": {
     "iopub.execute_input": "2025-02-26T03:36:07.941580Z",
     "iopub.status.busy": "2025-02-26T03:36:07.941049Z",
     "iopub.status.idle": "2025-02-26T03:36:07.966143Z",
     "shell.execute_reply": "2025-02-26T03:36:07.965594Z"
    }
   },
   "outputs": [],
   "source": [
    "# Set the default timeout, in seconds\n",
    "TIMEOUT = 5\n",
    "\n",
    "# Prepare to geolocate\n",
    "geocoder = Nominatim(user_agent=\"academicpages.github.io\")\n",
    "location_dict = {}\n",
    "location = \"\"\n",
    "permalink = \"\"\n",
    "title = \"\""
   ]
  },
  {
   "cell_type": "markdown",
   "metadata": {},
   "source": [
    "In the event that this times out with an error, double check to make sure that the location is can be properly geolocated."
   ]
  },
  {
   "cell_type": "code",
   "execution_count": 4,
   "metadata": {
    "collapsed": false,
    "execution": {
     "iopub.execute_input": "2025-02-26T03:36:07.968167Z",
     "iopub.status.busy": "2025-02-26T03:36:07.967976Z",
     "iopub.status.idle": "2025-02-26T03:36:11.603488Z",
     "shell.execute_reply": "2025-02-26T03:36:11.602744Z"
    }
   },
   "outputs": [
    {
     "name": "stdout",
     "output_type": "stream",
     "text": [
      "Unveiling Global Patterns in Taxonomic and Gene Expression Dynamics - Species Abundance Distributions and their Biological Interpretation<br />ICTP; Trieste, Italy Trieste, Friuli-Venezia Giulia, 34121-34151, Italia\n",
      "Complexity and emergence in marine ecosystems/seascape: theory, mechanisms and data analysis<br />Synergy Summer School 2024; Ischia, Italy Ischia, Napoli, Campania, 80077, Italia\n",
      "Complexity and emergence in marine ecosystems seascape: theory, mechanisms, and data<br />Synergy Summer School 2025; Ischia, Italy Ischia, Napoli, Campania, 80077, Italia\n",
      "Delay effects on the stability of large ecosystems<br />Italian Society of Statistical Physics - Young seminars; Padova, Italy Padova, Veneto, Italia\n",
      "Deviation from neutral species abundance distributions unveils geographical differences in the structure of diatom communities<br />ICTP; Trieste, Italy Trieste, Friuli-Venezia Giulia, 34121-34151, Italia\n",
      "Modeling bio-geographies – a conceptual approach<br />AtlantECO and CEODOS; Santiago, Chile Santiago, Provincia de Santiago, Región Metropolitana de Santiago, 8320000, Chile\n",
      "Deviation from neutral species abundance distributions unveils geographical differences in the structure of diatom communities<br />REIMAGINING OCEAN ECOLOGY - Towards a Paradigmatic Framework for the Seascape; Venice, Italy Venezia, Veneto, 30121-30176, Italia\n",
      "Linking microscopical stochastic gene expression dynamics with macroecological patterns in phytoplankton communities - a theoretical approach<br />Random Dynamical Systems,  with applications in biology; Chicago, IL, USA Chicago, Cook County, Illinois, United States\n"
     ]
    }
   ],
   "source": [
    "# Perform geolocation\n",
    "for file in g:\n",
    "    # Read the file\n",
    "    data = frontmatter.load(file)\n",
    "    data = data.to_dict()\n",
    "\n",
    "    # Press on if the location is not present\n",
    "    if 'location' not in data:\n",
    "        continue\n",
    "\n",
    "    # Prepare the description\n",
    "    title = data['title'].strip()\n",
    "    venue = data['venue'].strip()\n",
    "    location = data['location'].strip()\n",
    "    description = f\"{title}<br />{venue}; {location}\"\n",
    "\n",
    "    # Geocode the location and report the status\n",
    "    try:\n",
    "        location_dict[description] = geocoder.geocode(location, timeout=TIMEOUT)\n",
    "        print(description, location_dict[description])\n",
    "    except ValueError as ex:\n",
    "        print(f\"Error: geocode failed on input {location} with message {ex}\")\n",
    "    except GeocoderTimedOut as ex:\n",
    "        print(f\"Error: geocode timed out on input {location} with message {ex}\")\n",
    "    except Exception as ex:\n",
    "        print(f\"An unhandled exception occurred while processing input {location} with message {ex}\")"
   ]
  },
  {
   "cell_type": "code",
   "execution_count": 5,
   "metadata": {},
   "outputs": [
    {
     "data": {
      "text/plain": [
       "'Written map to talkmap/'"
      ]
     },
     "execution_count": 5,
     "metadata": {},
     "output_type": "execute_result"
    }
   ],
   "source": [
    "m = getorg.orgmap.create_map_obj()\n",
    "getorg.orgmap.output_html_cluster_map(location_dict, folder_name=\"talkmap\", hashed_usernames=False)"
   ]
  },
  {
   "cell_type": "code",
   "execution_count": 8,
   "metadata": {},
   "outputs": [
    {
     "name": "stdout",
     "output_type": "stream",
     "text": [
      "Mappa aggiornata: talkmap/map.html\n"
     ]
    }
   ],
   "source": [
    "def set_bicolor_tiles(folder=\"talkmap\", theme=\"dark\"):\n",
    "    tiles = {\n",
    "        \"light\": \"https://server.arcgisonline.com/ArcGIS/rest/services/Canvas/World_Light_Gray_Base/MapServer/tile/{z}/{y}/{x}\",\n",
    "        \"dark\":  \"https://server.arcgisonline.com/ArcGIS/rest/services/Canvas/World_Dark_Gray_Base/MapServer/tile/{z}/{y}/{x}\",\n",
    "        \"toner\": \"https://stamen-tiles.a.ssl.fastly.net/toner-lite/{z}/{x}/{y}.png\",\n",
    "    }\n",
    "    tile_url = tiles.get(theme, tiles[\"dark\"])\n",
    "\n",
    "    # i file comuni sono \"index.html\" o \"talkmap.html\"\n",
    "    for fname in (\"map.html\", \"talkmap.html\"):\n",
    "        fpath = pathlib.Path(folder) / fname\n",
    "        if fpath.exists():\n",
    "            html = fpath.read_text(encoding=\"utf-8\")\n",
    "            # rimpiazza qualunque tile Esri/OSM con il nostro (mantiene attribution ecc.)\n",
    "            html2 = re.sub(\n",
    "                r\"L\\.tileLayer\\(['\\\"].*?/tile/\\{z\\}.*?\\{x\\}['\\\"],\",\n",
    "                f\"L.tileLayer('{tile_url}',\",\n",
    "                html,\n",
    "                flags=re.S\n",
    "            )\n",
    "            fpath.write_text(html2, encoding=\"utf-8\")\n",
    "            return fpath\n",
    "    raise FileNotFoundError(\"HTML della mappa non trovato (atteso talkmap/index.html o talkmap/talkmap.html).\")\n",
    "\n",
    "# uso:\n",
    "patched = set_bicolor_tiles(\"talkmap\", theme=\"dark\")  # 'light' / 'dark' / 'toner'\n",
    "print(\"Mappa aggiornata:\", patched)"
   ]
  },
  {
   "cell_type": "code",
   "execution_count": 7,
   "metadata": {
    "collapsed": false,
    "execution": {
     "iopub.execute_input": "2025-02-26T03:36:11.605607Z",
     "iopub.status.busy": "2025-02-26T03:36:11.605411Z",
     "iopub.status.idle": "2025-02-26T03:36:11.613528Z",
     "shell.execute_reply": "2025-02-26T03:36:11.612932Z"
    }
   },
   "outputs": [
    {
     "data": {
      "text/plain": [
       "'Written map to talkmap/'"
      ]
     },
     "execution_count": 7,
     "metadata": {},
     "output_type": "execute_result"
    }
   ],
   "source": [
    "# Save the map\n",
    "m = getorg.orgmap.create_map_obj()\n",
    "\n",
    "m.layers = m.layers[:1]\n",
    "\n",
    "# Aggiungi uno stile bicolore (Carto light/dark, ad esempio)\n",
    "m.add_layer(TileLayer(\n",
    "    url=\"https://cartodb-basemaps-a.global.ssl.fastly.net/light_all/{z}/{x}/{y}{r}.png\",\n",
    "    attribution=\"&copy; <a href='https://www.openstreetmap.org/copyright'>OSM</a> &copy; <a href='https://carto.com/'>CARTO</a>\",\n",
    "    name=\"Carto Light\"\n",
    "))\n",
    "\n",
    "getorg.orgmap.output_html_cluster_map(location_dict, folder_name=\"talkmap\", hashed_usernames=False)"
   ]
  },
  {
   "cell_type": "code",
   "execution_count": 8,
   "metadata": {
    "collapsed": true
   },
   "outputs": [],
   "source": [
    "import os"
   ]
  },
  {
   "cell_type": "code",
   "execution_count": 9,
   "metadata": {},
   "outputs": [
    {
     "name": "stdout",
     "output_type": "stream",
     "text": [
      "/Users/epigani/Documents/epigani.github.io\n"
     ]
    }
   ],
   "source": [
    "! pwd"
   ]
  },
  {
   "cell_type": "code",
   "execution_count": 12,
   "metadata": {},
   "outputs": [],
   "source": [
    "import folium\n",
    "from folium.plugins import MarkerCluster\n",
    "from pathlib import Path\n",
    "\n",
    "def make_bicolor_map(location_dict, theme=\"light\", outfile=\"talkmap/index.html\"):\n",
    "    \"\"\"\n",
    "    location_dict: dict -> {label: (lat, lon)} oppure {label: {\"lat\":..,\"lon\":..}}\n",
    "    theme: 'light' | 'dark' | 'toner'\n",
    "    \"\"\"\n",
    "    tiles = {\n",
    "        \"light\": (\"https://server.arcgisonline.com/ArcGIS/rest/services/Canvas/World_Light_Gray_Base/MapServer/tile/{z}/{y}/{x}\",\n",
    "                  \"Tiles © Esri — Esri, HERE, Garmin, FAO, NOAA, USGS, © OpenStreetMap contributors\"),\n",
    "        \"dark\":  (\"https://server.arcgisonline.com/ArcGIS/rest/services/Canvas/World_Dark_Gray_Base/MapServer/tile/{z}/{y}/{x}\",\n",
    "                  \"Tiles © Esri — Esri, HERE, Garmin, FAO, NOAA, USGS, © OpenStreetMap contributors\"),\n",
    "        \"toner\": (\"https://stamen-tiles.a.ssl.fastly.net/toner-lite/{z}/{x}/{y}.png\",\n",
    "                  \"Map tiles by Stamen Design, © OpenStreetMap contributors\")\n",
    "    }\n",
    "    tile_url, attr = tiles.get(theme, tiles[\"light\"])\n",
    "\n",
    "    pts = []\n",
    "    for name, val in location_dict.items():\n",
    "        try:\n",
    "            if isinstance(val, dict):\n",
    "                lat = float(val.get(\"lat\"))\n",
    "                lon = float(val.get(\"lon\") or val.get(\"lng\"))\n",
    "            else:\n",
    "                lat, lon = map(float, val)  # tuple\n",
    "            pts.append((lat, lon, str(name)))\n",
    "        except Exception:\n",
    "            # salta entry malformate\n",
    "            continue\n",
    "\n",
    "    # Centro della mappa\n",
    "    if pts:\n",
    "        center = (sum(p[0] for p in pts)/len(pts), sum(p[1] for p in pts)/len(pts))\n",
    "    else:\n",
    "        center = (20, 0)\n",
    "\n",
    "    m = folium.Map(location=center, zoom_start=2, tiles=None)\n",
    "    folium.TileLayer(tiles=tile_url, attr=attr, name=f\"{theme} bicolor\", control=True).add_to(m)\n",
    "\n",
    "    mc = MarkerCluster(show=False)\n",
    "    for lat, lon, label in pts:\n",
    "        folium.Marker(location=(lat, lon), tooltip=label, popup=label).add_to(mc)\n",
    "    mc.add_to(m)\n",
    "\n",
    "    folium.LayerControl().add_to(m)\n",
    "\n",
    "    Path(outfile).parent.mkdir(parents=True, exist_ok=True)\n",
    "    m.save(outfile)\n",
    "    return m"
   ]
  },
  {
   "cell_type": "code",
   "execution_count": 13,
   "metadata": {},
   "outputs": [],
   "source": [
    "# m = make_bicolor_map(location_dict, theme=\"light\", outfile=\"talkmap/index.html\")\n",
    "m = make_bicolor_map(location_dict, theme=\"dark\", outfile=\"talkmap/map.html\")"
   ]
  },
  {
   "cell_type": "code",
   "execution_count": null,
   "metadata": {},
   "outputs": [],
   "source": []
  }
 ],
 "metadata": {
  "anaconda-cloud": {},
  "kernelspec": {
   "display_name": "genesENV",
   "language": "python",
   "name": "python3"
  },
  "language_info": {
   "codemirror_mode": {
    "name": "ipython",
    "version": 3
   },
   "file_extension": ".py",
   "mimetype": "text/x-python",
   "name": "python",
   "nbconvert_exporter": "python",
   "pygments_lexer": "ipython3",
   "version": "3.13.3"
  }
 },
 "nbformat": 4,
 "nbformat_minor": 0
}
